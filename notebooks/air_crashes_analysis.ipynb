{
 "cells": [
  {
   "cell_type": "markdown",
   "id": "39756f22",
   "metadata": {},
   "source": [
    "# Air Crashes Analysis Notebook\n",
    "\n",
    "This notebook demonstrates the full data analysis pipeline on the Air Crashes dataset. It includes data cleaning, geolocation enrichment, and visual exploration."
   ]
  },
  {
   "cell_type": "code",
   "execution_count": 2,
   "id": "4de00537",
   "metadata": {},
   "outputs": [
    {
     "name": "stdout",
     "output_type": "stream",
     "text": [
      "No existing geolocation cache found. Starting fresh.\n"
     ]
    }
   ],
   "source": [
    "import sys\n",
    "import os\n",
    "import pandas as pd\n",
    "\n",
    "# Add root directory to path\n",
    "sys.path.append(os.path.abspath('..'))\n",
    "\n",
    "from src.data_cleaning import clean_aircrash_data\n",
    "from src.missing_geolocation import merge_geolocations_to_cleaned\n",
    "from src.visualization import *"
   ]
  },
  {
   "cell_type": "markdown",
   "id": "416982d5",
   "metadata": {},
   "source": [
    "## Step 1: Clean the raw dataset"
   ]
  },
  {
   "cell_type": "code",
   "execution_count": 1,
   "id": "1f378e83",
   "metadata": {},
   "outputs": [
    {
     "ename": "NameError",
     "evalue": "name 'clean_aircrash_data' is not defined",
     "output_type": "error",
     "traceback": [
      "\u001b[1;31m---------------------------------------------------------------------------\u001b[0m",
      "\u001b[1;31mNameError\u001b[0m                                 Traceback (most recent call last)",
      "Cell \u001b[1;32mIn[1], line 1\u001b[0m\n\u001b[1;32m----> 1\u001b[0m \u001b[43mclean_aircrash_data\u001b[49m()\n",
      "\u001b[1;31mNameError\u001b[0m: name 'clean_aircrash_data' is not defined"
     ]
    }
   ],
   "source": [
    "clean_aircrash_data()"
   ]
  },
  {
   "cell_type": "markdown",
   "id": "36bcac4f",
   "metadata": {},
   "source": [
    "## Step 2: Merge Geolocation Data"
   ]
  },
  {
   "cell_type": "code",
   "execution_count": null,
   "id": "8d54a3fb",
   "metadata": {},
   "outputs": [],
   "source": [
    "merge_geolocations_to_cleaned()"
   ]
  },
  {
   "cell_type": "markdown",
   "id": "edf03568",
   "metadata": {},
   "source": [
    "## Step 3: Load the Processed Data"
   ]
  },
  {
   "cell_type": "code",
   "execution_count": null,
   "id": "5f735224",
   "metadata": {},
   "outputs": [],
   "source": [
    "df = pd.read_csv('../data/processed/cleaned_aircrashes_with_geo.csv')\n",
    "df.head()"
   ]
  },
  {
   "cell_type": "markdown",
   "id": "be18f752",
   "metadata": {},
   "source": [
    "## Step 4: Visualizations\n",
    " * You can also see the visualisation in the reports/figures"
   ]
  },
  {
   "cell_type": "code",
   "execution_count": 2,
   "id": "6cbbadcd",
   "metadata": {},
   "outputs": [
    {
     "ename": "NameError",
     "evalue": "name 'plot_crashes_over_year' is not defined",
     "output_type": "error",
     "traceback": [
      "\u001b[1;31m---------------------------------------------------------------------------\u001b[0m",
      "\u001b[1;31mNameError\u001b[0m                                 Traceback (most recent call last)",
      "Cell \u001b[1;32mIn[2], line 1\u001b[0m\n\u001b[1;32m----> 1\u001b[0m \u001b[43mplot_crashes_over_year\u001b[49m(df)\n",
      "\u001b[1;31mNameError\u001b[0m: name 'plot_crashes_over_year' is not defined"
     ]
    }
   ],
   "source": [
    "plot_crashes_over_year(df)"
   ]
  },
  {
   "cell_type": "code",
   "execution_count": null,
   "id": "3133421b",
   "metadata": {},
   "outputs": [],
   "source": [
    "plot_fatalities_over_year(df)"
   ]
  },
  {
   "cell_type": "code",
   "execution_count": null,
   "id": "1c0520ff",
   "metadata": {},
   "outputs": [],
   "source": [
    "plot_crashes_by_country(df)"
   ]
  },
  {
   "cell_type": "code",
   "execution_count": null,
   "id": "1351b046",
   "metadata": {},
   "outputs": [],
   "source": [
    "plot_fatalities_distribution(df)"
   ]
  },
  {
   "cell_type": "code",
   "execution_count": null,
   "id": "f21ebefb",
   "metadata": {},
   "outputs": [],
   "source": [
    "plot_crashes_by_aircraft_model(df)"
   ]
  },
  {
   "cell_type": "code",
   "execution_count": null,
   "id": "c4c531e1",
   "metadata": {},
   "outputs": [],
   "source": [
    "plot_top_operators(df)"
   ]
  },
  {
   "cell_type": "code",
   "execution_count": null,
   "id": "b17bdfca",
   "metadata": {},
   "outputs": [],
   "source": [
    "plot_common_aircraft_manufacturers(df)"
   ]
  },
  {
   "cell_type": "code",
   "execution_count": null,
   "id": "3dbd3857",
   "metadata": {},
   "outputs": [],
   "source": [
    "plot_crashes_by_month(df)"
   ]
  },
  {
   "cell_type": "code",
   "execution_count": null,
   "id": "f33d20be",
   "metadata": {},
   "outputs": [],
   "source": [
    "plot_crashes_by_quarter(df)"
   ]
  },
  {
   "cell_type": "code",
   "execution_count": null,
   "id": "7fd868b9",
   "metadata": {},
   "outputs": [],
   "source": [
    "plot_correlation_heatmap(df)"
   ]
  },
  {
   "cell_type": "markdown",
   "id": "084ca12f",
   "metadata": {},
   "source": [
    "## Conclusion\n",
    "This analysis highlights trends in air crash frequency, severity, geography, and aircraft/airline involvementI will now extend the project with interactive dashboards or predictive modeling."
   ]
  },
  {
   "cell_type": "code",
   "execution_count": null,
   "id": "6b2e8024",
   "metadata": {},
   "outputs": [],
   "source": []
  }
 ],
 "metadata": {
  "kernelspec": {
   "display_name": ".venv",
   "language": "python",
   "name": "python3"
  },
  "language_info": {
   "codemirror_mode": {
    "name": "ipython",
    "version": 3
   },
   "file_extension": ".py",
   "mimetype": "text/x-python",
   "name": "python",
   "nbconvert_exporter": "python",
   "pygments_lexer": "ipython3",
   "version": "3.11.9"
  }
 },
 "nbformat": 4,
 "nbformat_minor": 5
}
