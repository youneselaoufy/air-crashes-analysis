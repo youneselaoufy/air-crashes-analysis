{
 "cells": [
  {
   "cell_type": "markdown",
   "id": "39ecd727",
   "metadata": {},
   "source": [
    "# ✈️ Air Crashes Analysis (1908-2023)"
   ]
  },
  {
   "cell_type": "markdown",
   "id": "8b747ec0",
   "metadata": {},
   "source": [
    "## 📌 Introduction\n",
    "This notebook analyzes global air crashes from **1908-2023** using Python.\n",
    "The goal is to uncover trends, most affected airlines, and geographical patterns.\n",
    "\n",
    "### **Dataset Details**\n",
    "- **Source**: [Kaggle Air Crashes Full Data (1908-2023)](https://www.kaggle.com/datasets/jogwums/air-crashes-full-data-1908-2023)\n",
    "- **Total Records**: 5,000+ air crashes\n",
    "- **Key Features**:\n",
    "  - Date (Year, Month, Day)\n",
    "  - Location (Country/Region, Latitude, Longitude)\n",
    "  - Aircraft Details (Manufacturer, Model, Operator)\n",
    "  - Severity (Fatalities, Survivors, Total Aboard)\n"
   ]
  },
  {
   "cell_type": "markdown",
   "id": "113490c5",
   "metadata": {},
   "source": [
    "## 🛠️ 1. Load and Clean the Data\n",
    "- Load the raw dataset\n",
    "- Apply data cleaning functions\n",
    "- Add missing latitude & longitude using **Nominatim API**"
   ]
  },
  {
   "cell_type": "code",
   "execution_count": null,
   "id": "477edae9",
   "metadata": {},
   "outputs": [],
   "source": [
    "import pandas as pd\n",
    "import matplotlib.pyplot as plt\n",
    "import seaborn as sns\n",
    "from src.data_cleaning import load_data, clean_data\n",
    "from src.visualization import *\n",
    "\n",
    "# Display settings\n",
    "pd.set_option('display.max_columns', None)\n",
    "\n",
    "# Load the cleaned dataset\n",
    "df = pd.read_csv('../data/processed/cleaned_aircrashes.csv')\n",
    "df.head()"
   ]
  },
  {
   "cell_type": "markdown",
   "id": "0543c3df",
   "metadata": {},
   "source": [
    "## 📊 2. Exploratory Data Analysis (EDA)\n",
    "- Check for missing values & data types\n",
    "- Overview of air crashes trends\n",
    "- Most affected countries & airlines"
   ]
  },
  {
   "cell_type": "code",
   "execution_count": null,
   "id": "94070dff",
   "metadata": {},
   "outputs": [],
   "source": [
    "# Check for missing values\n",
    "df.isnull().sum()"
   ]
  },
  {
   "cell_type": "markdown",
   "id": "0f520700",
   "metadata": {},
   "source": [
    "## ✈️ 3. Data Visualizations\n",
    "- **Crashes Over Time** (per year, quarter, month)\n",
    "- **Geographical Distribution** of crashes\n",
    "- **Top Aircraft Models & Manufacturers**\n",
    "- **Correlation Heatmap** (to analyze crash severity)\n",
    "- **Fatality Trends & Survival Rates**"
   ]
  },
  {
   "cell_type": "code",
   "execution_count": null,
   "id": "738884d6",
   "metadata": {},
   "outputs": [],
   "source": [
    "# Generate visualizations\n",
    "plot_crashes_over_time(df)\n",
    "plot_crashes_by_location(df)\n",
    "plot_common_aircraft_manufacturers(df)\n",
    "plot_correlation_heatmap(df)"
   ]
  },
  {
   "cell_type": "markdown",
   "id": "396129a7",
   "metadata": {},
   "source": [
    "## 🔮 4. Conclusion & Next Steps\n",
    "- Key takeaways from the analysis\n",
    "- Future improvements:\n",
    "  - **Interactive map using Folium** 🌍\n",
    "  - **Power BI Dashboard** 📊\n",
    "  - **Advanced Predictive Analysis** 🔍"
   ]
  }
 ],
 "metadata": {},
 "nbformat": 4,
 "nbformat_minor": 5
}
